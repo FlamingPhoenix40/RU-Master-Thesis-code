{
 "cells": [
  {
   "cell_type": "code",
   "execution_count": 16,
   "id": "fdd94e98-53fd-4e0a-98e8-79c74785d8a6",
   "metadata": {},
   "outputs": [],
   "source": [
    "import json\n",
    "import pandas as pd\n",
    "import seaborn as sb\n",
    "import numpy as np\n",
    "import re\n",
    "import matplotlib.pyplot as plt"
   ]
  },
  {
   "cell_type": "code",
   "execution_count": 2,
   "id": "a11df2f6-72bd-41ce-b681-3e919ec94448",
   "metadata": {},
   "outputs": [],
   "source": [
    "def load_json_data(file_path):\n",
    "    \"\"\"Loads JSON data from a file.\"\"\"\n",
    "    with open(file_path, 'r') as file:\n",
    "        data = json.load(file)\n",
    "    return data"
   ]
  },
  {
   "cell_type": "code",
   "execution_count": 3,
   "id": "09110f6d",
   "metadata": {},
   "outputs": [],
   "source": [
    "def flatten_data(data):\n",
    "    flattened_data = []\n",
    "    submetrics_to_disregard = ['domloading', 'navigationStart']\n",
    "\n",
    "    for website, metrics in data['sites'].items():\n",
    "        for metric, value in metrics.items():\n",
    "            if metric == 'navigationTiming':\n",
    "                for sub_metric, sub_value in value.items():\n",
    "                    if sub_metric not in submetrics_to_disregard and sub_value is not None:\n",
    "                        flattened_data.append({\n",
    "                            'website': website,\n",
    "                            'metric': f'navigationTiming_{sub_metric}',\n",
    "                            'value': sub_value\n",
    "                        })\n",
    "            elif metric != 'dnsLookupTimes':\n",
    "                flattened_data.append({\n",
    "                    'website': website,\n",
    "                    'metric': metric,\n",
    "                    'value': value\n",
    "                })\n",
    "    \n",
    "    return flattened_data"
   ]
  },
  {
   "cell_type": "code",
   "execution_count": 4,
   "id": "31aed66a",
   "metadata": {},
   "outputs": [],
   "source": [
    "def calculate_avg_and_mean(data, w_or_wo_ublock):\n",
    "    flattened_data = flatten_data(data)\n",
    "    df = pd.DataFrame(flattened_data)\n",
    "    summary_stats = df.groupby('metric')['value'].agg(['mean', 'median'])\n",
    "    #summary_stats = summary_stats.reset_index()\n",
    "\n",
    "    print(summary_stats)\n",
    "    summary_stats.to_csv(f'stats_{w_or_wo_ublock}.csv')"
   ]
  },
  {
   "cell_type": "code",
   "execution_count": 5,
   "id": "ddc77fd8",
   "metadata": {},
   "outputs": [
    {
     "name": "stdout",
     "output_type": "stream",
     "text": [
      "                                                     mean      median\n",
      "metric                                                               \n",
      "estimatedTBT                                 14006.630941   8640.1728\n",
      "fcp                                          12342.971946   8533.5040\n",
      "navigationTiming_connectEnd                   7034.457333   4516.7570\n",
      "navigationTiming_connectStart                 4282.386004   2400.0480\n",
      "navigationTiming_domComplete                 23336.077890  14400.2880\n",
      "navigationTiming_domContentLoadedEventEnd    14159.040293   9316.8530\n",
      "navigationTiming_domContentLoadedEventStart  14134.695349   9300.1860\n",
      "navigationTiming_domInteractive              12909.753621   8633.5060\n",
      "navigationTiming_domainLookupEnd              4243.681747   2366.7140\n",
      "navigationTiming_domainLookupStart            4243.681747   2366.7140\n",
      "navigationTiming_fetchStart                   4243.681747   2366.7140\n",
      "navigationTiming_loadEventEnd                23344.384902  14400.2880\n",
      "navigationTiming_loadEventStart              23336.412289  14400.2880\n",
      "navigationTiming_requestStart                 7040.161990   4525.0905\n",
      "navigationTiming_responseEnd                  8144.332530   5408.4415\n",
      "navigationTiming_responseStart                8067.106114   5383.4410\n",
      "navigationTiming_secureConnectionStart        6139.024910   3750.0750\n",
      "                                                     mean      median\n",
      "metric                                                               \n",
      "estimatedTBT                                 16148.189465   9120.1824\n",
      "fcp                                          11246.145962   7366.8140\n",
      "navigationTiming_connectEnd                   5719.452885   3533.4040\n",
      "navigationTiming_connectStart                 3431.375738   1850.0370\n",
      "navigationTiming_domComplete                 26904.587214  15183.6370\n",
      "navigationTiming_domContentLoadedEventEnd    13525.618143   8158.4965\n",
      "navigationTiming_domContentLoadedEventStart  13505.107204   8150.1630\n",
      "navigationTiming_domInteractive              11979.689331   7383.4810\n",
      "navigationTiming_domainLookupEnd              3391.585510   1816.7030\n",
      "navigationTiming_domainLookupStart            3391.585510   1816.7030\n",
      "navigationTiming_fetchStart                   3391.585510   1816.7030\n",
      "navigationTiming_loadEventEnd                26913.649108  15200.3040\n",
      "navigationTiming_loadEventStart              26905.153375  15183.6370\n",
      "navigationTiming_requestStart                 5724.713883   3533.4040\n",
      "navigationTiming_responseEnd                  6670.826037   4300.0860\n",
      "navigationTiming_responseStart                6600.539239   4266.7520\n",
      "navigationTiming_secureConnectionStart        4952.823859   2866.7240\n"
     ]
    }
   ],
   "source": [
    "data_w_ublock = load_json_data('../json_files/5000_with_ublock.json')\n",
    "data_wo_ublock = load_json_data('../json_files/filtered_data_no_ublock.json')\n",
    "\n",
    "calculate_avg_and_mean(data_w_ublock, 'w_ublock')\n",
    "calculate_avg_and_mean(data_wo_ublock, 'wo_ublock')\n",
    "\n"
   ]
  },
  {
   "cell_type": "code",
   "execution_count": 5,
   "id": "13432f54",
   "metadata": {},
   "outputs": [],
   "source": [
    "def search_log_file(log_file_path, search_term, output_file_path):\n",
    "    with open(log_file_path, 'r') as log_file, open(output_file_path, 'a') as output_file:\n",
    "        for line in log_file:\n",
    "            if re.search(search_term, line):\n",
    "                output_file.write(line)\n"
   ]
  },
  {
   "cell_type": "code",
   "execution_count": 9,
   "id": "0284d0ec",
   "metadata": {},
   "outputs": [],
   "source": [
    "log_filename = input(\"Enter filename of the log file to use: \")\n",
    "log_file_path = f'/media/gilbert/The Citadel/tor_logs/{log_filename}'\n",
    "search_term = input(\"Enter search term: \")\n",
    "output_file_path = f'../log_analysis/{search_term}.txt'\n",
    "\n",
    "search_log_file(log_file_path, search_term, output_file_path)"
   ]
  },
  {
   "cell_type": "code",
   "execution_count": 19,
   "id": "66b93c12",
   "metadata": {},
   "outputs": [],
   "source": [
    "def circuit_build_times_histogram(build_times_file, output_file):\n",
    "    build_times = []\n",
    "    outlier_value = 2147483646\n",
    "    outlier_count = 0\n",
    "\n",
    "    with open(build_times_file, 'r') as file:\n",
    "        for line in file:\n",
    "            match = re.search(r\"circuit_build_times_add_time\\(\\): Adding circuit build time (\\d+\\.?\\d*)\", line)\n",
    "            if match:\n",
    "                # print(line)\n",
    "                build_time = float(match.group(1))\n",
    "                if build_time != outlier_value:\n",
    "                    build_times.append(build_time)\n",
    "                else:\n",
    "                    outlier_count += 1\n",
    "    # print(build_times)\n",
    "    print(f'Number of outliers: {outlier_count}')\n",
    "    # print('Creating Dataframe')\n",
    "    df = pd.DataFrame(build_times, columns=['Build Time'])\n",
    "    # print('setting theme')\n",
    "    plt.figure(figsize=(12,6))\n",
    "    sb.set_theme()\n",
    "    # print('creating variable ax')\n",
    "    # if np.isnan(build_times).any():\n",
    "    #     print('NaN values found, removing...')\n",
    "    #     build_times = [x for x in build_times if not np.isnan(x)]\n",
    "\n",
    "    # print(f'Minimum build time: {np.min(build_times)}')\n",
    "    # print(f'Maximum build time: {np.max(build_times)}')\n",
    "    # print(f'Mean build time: {np.mean(build_times)}')\n",
    "    ax = sb.histplot(data=df, x='Build Time', kde=True)\n",
    "    # print('set title and labels')\n",
    "    ax.set_title('Distribution of Circuit Build Times')\n",
    "    ax.set_xlabel('Build Time')\n",
    "    ax.set_ylabel('Frequency')\n",
    "    # print('showing plot')\n",
    "\n",
    "    for p in ax.patches:\n",
    "        ax.annotate(f'{p.get_height():.0f}', (p.get_x() + p.get_width() / 2., p.get_height()), ha='center', va='center', xytext=(0, 5), textcoords=\"offset points\")\n",
    "    ax.figure.show()\n",
    "\n",
    "    plt.savefig(output_file)\n",
    "\n",
    "    "
   ]
  },
  {
   "cell_type": "code",
   "execution_count": 21,
   "id": "264a8af5",
   "metadata": {},
   "outputs": [
    {
     "name": "stdout",
     "output_type": "stream",
     "text": [
      "Number of outliers: 2\n"
     ]
    },
    {
     "name": "stderr",
     "output_type": "stream",
     "text": [
      "/tmp/ipykernel_103006/3842088792.py:40: UserWarning: FigureCanvasAgg is non-interactive, and thus cannot be shown\n",
      "  ax.figure.show()\n"
     ]
    },
    {
     "data": {
      "image/png": "[encoded data removed]",
      "text/plain": [
       "<Figure size 1200x600 with 1 Axes>"
      ]
     },
     "metadata": {},
     "output_type": "display_data"
    }
   ],
   "source": [
    "build_times_filename = input(\"Enter filename of the build times file to use: \")\n",
    "build_times_file = f'../log_analysis/{build_times_filename}'\n",
    "output_file = f'../log_analysis/{build_times_filename}.png'\n",
    "circuit_build_times_histogram(build_times_file, output_file)"
   ]
  }
 ],
 "metadata": {
  "kernelspec": {
   "display_name": "Python 3 (ipykernel)",
   "language": "python",
   "name": "python3"
  },
  "language_info": {
   "codemirror_mode": {
    "name": "ipython",
    "version": 3
   },
   "file_extension": ".py",
   "mimetype": "text/x-python",
   "name": "python",
   "nbconvert_exporter": "python",
   "pygments_lexer": "ipython3",
   "version": "3.10.12"
  }
 },
 "nbformat": 4,
 "nbformat_minor": 5
}
